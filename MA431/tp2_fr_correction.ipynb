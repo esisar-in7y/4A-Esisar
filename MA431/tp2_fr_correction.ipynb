{
 "cells": [
  {
   "cell_type": "markdown",
   "metadata": {
    "id": "BYUmQ44-c-iJ"
   },
   "source": [
    "<a rel=\"license\" href=\"http://creativecommons.org/licenses/by-sa/4.0/\"><img alt=\"Licence Creative Commons\" style=\"border-width:0\" src=\"https://i.creativecommons.org/l/by-sa/4.0/80x15.png\" /></a> Ce TP est mis à disposition selon les termes de la <a rel=\"license\" href=\"http://creativecommons.org/licenses/by-sa/4.0/\">Licence Creative Commons BY-SA</a>.<br/>\n",
    "Le code des cellules exécutables est diponible sous les termes de la [Licence MIT](https://mit-license.org/).\n",
    "\n",
    "**Richard JARRY** <br/>\n",
    "[SPM](https://www.gouvernement.fr/les-services-du-premier-ministre) /\n",
    "[SGDSN](http://www.sgdsn.gouv.fr/) /\n",
    "[ANSSI](https://ssi.gouv.fr) <br/>\n",
    "juillet 2022 (Paris, France)"
   ]
  },
  {
   "cell_type": "markdown",
   "metadata": {
    "id": "EMAVaFfl01Iq"
   },
   "source": [
    "# TP2 Apprentissage automatique"
   ]
  },
  {
   "cell_type": "markdown",
   "metadata": {
    "id": "GyhsKjr1cGAQ"
   },
   "source": [
    "## 1. Préparation du TP"
   ]
  },
  {
   "cell_type": "markdown",
   "metadata": {
    "id": "4DQG3E9RlbUa"
   },
   "source": [
    "### 1.1 Prérequis théoriques\n",
    "\n",
    " - Algorithmes de réduction (ACP)\n",
    " - Algorithmes de partitionnement (DBSCAN)\n",
    " - Algorithmes de classification supervisée (logit)"
   ]
  },
  {
   "cell_type": "markdown",
   "metadata": {
    "id": "Nf4tdD8nlX7C"
   },
   "source": [
    "### 1.2 Prérequis techniques\n",
    "\n",
    "1.2.1 **Vidéos d'introduction**\n",
    "\n",
    " - [Fondamentaux Scikit-learn](https://www.youtube.com/watch?v=P6kSc3qVph0&list=PLO_fdPEVlfKqMDNmCFzQISI2H_nJcEDJq&index=20)\n",
    " - [Mesures de précision et d'erreur](https://www.youtube.com/watch?v=_TE9fDgtOaE&list=PLO_fdPEVlfKqMDNmCFzQISI2H_nJcEDJq&index=23)\n",
    "\n",
    "1.2.2 **Référence complète**\n",
    "\n",
    " - [API Pandas](https://pandas.pydata.org/docs)\n",
    " - [API Numpy](https://numpy.org/doc/stable)\n",
    " - [API Seaborn](https://seaborn.pydata.org/api)\n",
    " - [API Scikit-learn](https://scikit-learn.org/stable/modules/classes)"
   ]
  },
  {
   "cell_type": "markdown",
   "metadata": {
    "id": "6WBiXmethRP6"
   },
   "source": [
    "### 1.3 Environnement de développement\n",
    "\n",
    "Même environnement qu'au TP1, avec l'ajout des bibliothèques `scikit-learn` et `textdistance`."
   ]
  },
  {
   "cell_type": "code",
   "execution_count": null,
   "metadata": {
    "colab": {
     "base_uri": "https://localhost:8080/"
    },
    "id": "ejgGUnu4J6GU",
    "outputId": "00e743c0-b476-4fa4-c92f-1e0d882b2156"
   },
   "outputs": [
    {
     "name": "stdout",
     "output_type": "stream",
     "text": [
      "Looking in indexes: https://pypi.org/simple, https://us-python.pkg.dev/colab-wheels/public/simple/\n",
      "Requirement already satisfied: numpy in /usr/local/lib/python3.7/dist-packages (1.21.6)\n",
      "Requirement already satisfied: pandas in /usr/local/lib/python3.7/dist-packages (1.3.5)\n",
      "Requirement already satisfied: seaborn in /usr/local/lib/python3.7/dist-packages (0.11.2)\n",
      "Requirement already satisfied: scikit-learn in /usr/local/lib/python3.7/dist-packages (1.0.2)\n",
      "Requirement already satisfied: textdistance in /usr/local/lib/python3.7/dist-packages (4.5.0)\n",
      "Requirement already satisfied: pytz>=2017.3 in /usr/local/lib/python3.7/dist-packages (from pandas) (2022.6)\n",
      "Requirement already satisfied: python-dateutil>=2.7.3 in /usr/local/lib/python3.7/dist-packages (from pandas) (2.8.2)\n",
      "Requirement already satisfied: six>=1.5 in /usr/local/lib/python3.7/dist-packages (from python-dateutil>=2.7.3->pandas) (1.15.0)\n",
      "Requirement already satisfied: scipy>=1.0 in /usr/local/lib/python3.7/dist-packages (from seaborn) (1.7.3)\n",
      "Requirement already satisfied: matplotlib>=2.2 in /usr/local/lib/python3.7/dist-packages (from seaborn) (3.2.2)\n",
      "Requirement already satisfied: pyparsing!=2.0.4,!=2.1.2,!=2.1.6,>=2.0.1 in /usr/local/lib/python3.7/dist-packages (from matplotlib>=2.2->seaborn) (3.0.9)\n",
      "Requirement already satisfied: kiwisolver>=1.0.1 in /usr/local/lib/python3.7/dist-packages (from matplotlib>=2.2->seaborn) (1.4.4)\n",
      "Requirement already satisfied: cycler>=0.10 in /usr/local/lib/python3.7/dist-packages (from matplotlib>=2.2->seaborn) (0.11.0)\n",
      "Requirement already satisfied: typing-extensions in /usr/local/lib/python3.7/dist-packages (from kiwisolver>=1.0.1->matplotlib>=2.2->seaborn) (4.1.1)\n",
      "Requirement already satisfied: threadpoolctl>=2.0.0 in /usr/local/lib/python3.7/dist-packages (from scikit-learn) (3.1.0)\n",
      "Requirement already satisfied: joblib>=0.11 in /usr/local/lib/python3.7/dist-packages (from scikit-learn) (1.2.0)\n"
     ]
    }
   ],
   "source": [
    "!pip3 install numpy pandas seaborn scikit-learn textdistance"
   ]
  },
  {
   "cell_type": "code",
   "execution_count": null,
   "metadata": {
    "id": "MIW73At6gVLz"
   },
   "outputs": [],
   "source": [
    "# Si vous pouvez exécuter cette cellule sans erreur,\n",
    "# c'est que votre environnement est prêt pour le TP.\n",
    "\n",
    "import pandas as pd\n",
    "import numpy as np\n",
    "import seaborn as sns\n",
    "import matplotlib.pyplot as plt\n",
    "\n",
    "import sklearn\n",
    "import textdistance"
   ]
  },
  {
   "cell_type": "code",
   "execution_count": null,
   "metadata": {
    "id": "MjvKjNpVj3Kn"
   },
   "outputs": [],
   "source": [
    "import warnings\n",
    "warnings.filterwarnings(\"ignore\")"
   ]
  },
  {
   "cell_type": "markdown",
   "metadata": {
    "id": "6fUwdMMCjFLx"
   },
   "source": [
    "Notre jeu de données principal est [Majestic Million](https://majestic.com/reports/majestic-million), une liste des noms de domaine les plus visibles sur Internet. "
   ]
  },
  {
   "cell_type": "code",
   "execution_count": null,
   "metadata": {
    "colab": {
     "base_uri": "https://localhost:8080/",
     "height": 488
    },
    "id": "7oUcg6XSiNcc",
    "outputId": "cd54305f-9173-4790-9181-30b1a38d50e1"
   },
   "outputs": [
    {
     "data": {
      "text/html": [
       "\n",
       "  <div id=\"df-4f5024de-3f32-4b55-b2b9-30faa1049640\">\n",
       "    <div class=\"colab-df-container\">\n",
       "      <div>\n",
       "<style scoped>\n",
       "    .dataframe tbody tr th:only-of-type {\n",
       "        vertical-align: middle;\n",
       "    }\n",
       "\n",
       "    .dataframe tbody tr th {\n",
       "        vertical-align: top;\n",
       "    }\n",
       "\n",
       "    .dataframe thead th {\n",
       "        text-align: right;\n",
       "    }\n",
       "</style>\n",
       "<table border=\"1\" class=\"dataframe\">\n",
       "  <thead>\n",
       "    <tr style=\"text-align: right;\">\n",
       "      <th></th>\n",
       "      <th>GlobalRank</th>\n",
       "      <th>TldRank</th>\n",
       "      <th>Domain</th>\n",
       "      <th>TLD</th>\n",
       "      <th>RefSubNets</th>\n",
       "      <th>RefIPs</th>\n",
       "      <th>IDN_Domain</th>\n",
       "      <th>IDN_TLD</th>\n",
       "      <th>PrevGlobalRank</th>\n",
       "      <th>PrevTldRank</th>\n",
       "      <th>PrevRefSubNets</th>\n",
       "      <th>PrevRefIPs</th>\n",
       "    </tr>\n",
       "  </thead>\n",
       "  <tbody>\n",
       "    <tr>\n",
       "      <th>0</th>\n",
       "      <td>1</td>\n",
       "      <td>1</td>\n",
       "      <td>google.com</td>\n",
       "      <td>com</td>\n",
       "      <td>491368</td>\n",
       "      <td>2416780</td>\n",
       "      <td>google.com</td>\n",
       "      <td>com</td>\n",
       "      <td>1</td>\n",
       "      <td>1</td>\n",
       "      <td>491249</td>\n",
       "      <td>2414156</td>\n",
       "    </tr>\n",
       "    <tr>\n",
       "      <th>1</th>\n",
       "      <td>2</td>\n",
       "      <td>2</td>\n",
       "      <td>facebook.com</td>\n",
       "      <td>com</td>\n",
       "      <td>490021</td>\n",
       "      <td>2566596</td>\n",
       "      <td>facebook.com</td>\n",
       "      <td>com</td>\n",
       "      <td>2</td>\n",
       "      <td>2</td>\n",
       "      <td>489727</td>\n",
       "      <td>2563797</td>\n",
       "    </tr>\n",
       "    <tr>\n",
       "      <th>2</th>\n",
       "      <td>3</td>\n",
       "      <td>3</td>\n",
       "      <td>youtube.com</td>\n",
       "      <td>com</td>\n",
       "      <td>441964</td>\n",
       "      <td>2081063</td>\n",
       "      <td>youtube.com</td>\n",
       "      <td>com</td>\n",
       "      <td>3</td>\n",
       "      <td>3</td>\n",
       "      <td>441842</td>\n",
       "      <td>2078756</td>\n",
       "    </tr>\n",
       "    <tr>\n",
       "      <th>3</th>\n",
       "      <td>4</td>\n",
       "      <td>4</td>\n",
       "      <td>twitter.com</td>\n",
       "      <td>com</td>\n",
       "      <td>435398</td>\n",
       "      <td>2064146</td>\n",
       "      <td>twitter.com</td>\n",
       "      <td>com</td>\n",
       "      <td>4</td>\n",
       "      <td>4</td>\n",
       "      <td>435139</td>\n",
       "      <td>2061964</td>\n",
       "    </tr>\n",
       "    <tr>\n",
       "      <th>4</th>\n",
       "      <td>5</td>\n",
       "      <td>5</td>\n",
       "      <td>instagram.com</td>\n",
       "      <td>com</td>\n",
       "      <td>372776</td>\n",
       "      <td>1718220</td>\n",
       "      <td>instagram.com</td>\n",
       "      <td>com</td>\n",
       "      <td>5</td>\n",
       "      <td>5</td>\n",
       "      <td>372696</td>\n",
       "      <td>1716399</td>\n",
       "    </tr>\n",
       "    <tr>\n",
       "      <th>...</th>\n",
       "      <td>...</td>\n",
       "      <td>...</td>\n",
       "      <td>...</td>\n",
       "      <td>...</td>\n",
       "      <td>...</td>\n",
       "      <td>...</td>\n",
       "      <td>...</td>\n",
       "      <td>...</td>\n",
       "      <td>...</td>\n",
       "      <td>...</td>\n",
       "      <td>...</td>\n",
       "      <td>...</td>\n",
       "    </tr>\n",
       "    <tr>\n",
       "      <th>999995</th>\n",
       "      <td>999996</td>\n",
       "      <td>492007</td>\n",
       "      <td>theonenetwork.com</td>\n",
       "      <td>com</td>\n",
       "      <td>252</td>\n",
       "      <td>266</td>\n",
       "      <td>theonenetwork.com</td>\n",
       "      <td>com</td>\n",
       "      <td>991339</td>\n",
       "      <td>487339</td>\n",
       "      <td>254</td>\n",
       "      <td>268</td>\n",
       "    </tr>\n",
       "    <tr>\n",
       "      <th>999996</th>\n",
       "      <td>999997</td>\n",
       "      <td>492008</td>\n",
       "      <td>thewatchmakerproject.com</td>\n",
       "      <td>com</td>\n",
       "      <td>252</td>\n",
       "      <td>266</td>\n",
       "      <td>thewatchmakerproject.com</td>\n",
       "      <td>com</td>\n",
       "      <td>-1</td>\n",
       "      <td>-1</td>\n",
       "      <td>-1</td>\n",
       "      <td>-1</td>\n",
       "    </tr>\n",
       "    <tr>\n",
       "      <th>999997</th>\n",
       "      <td>999998</td>\n",
       "      <td>492009</td>\n",
       "      <td>travelonly.com</td>\n",
       "      <td>com</td>\n",
       "      <td>252</td>\n",
       "      <td>266</td>\n",
       "      <td>travelonly.com</td>\n",
       "      <td>com</td>\n",
       "      <td>-1</td>\n",
       "      <td>-1</td>\n",
       "      <td>-1</td>\n",
       "      <td>-1</td>\n",
       "    </tr>\n",
       "    <tr>\n",
       "      <th>999998</th>\n",
       "      <td>999999</td>\n",
       "      <td>492010</td>\n",
       "      <td>tvstandsonly.com</td>\n",
       "      <td>com</td>\n",
       "      <td>252</td>\n",
       "      <td>266</td>\n",
       "      <td>tvstandsonly.com</td>\n",
       "      <td>com</td>\n",
       "      <td>-1</td>\n",
       "      <td>-1</td>\n",
       "      <td>-1</td>\n",
       "      <td>-1</td>\n",
       "    </tr>\n",
       "    <tr>\n",
       "      <th>999999</th>\n",
       "      <td>1000000</td>\n",
       "      <td>492011</td>\n",
       "      <td>victorescandell.com</td>\n",
       "      <td>com</td>\n",
       "      <td>252</td>\n",
       "      <td>266</td>\n",
       "      <td>victorescandell.com</td>\n",
       "      <td>com</td>\n",
       "      <td>-1</td>\n",
       "      <td>-1</td>\n",
       "      <td>-1</td>\n",
       "      <td>-1</td>\n",
       "    </tr>\n",
       "  </tbody>\n",
       "</table>\n",
       "<p>1000000 rows × 12 columns</p>\n",
       "</div>\n",
       "      <button class=\"colab-df-convert\" onclick=\"convertToInteractive('df-4f5024de-3f32-4b55-b2b9-30faa1049640')\"\n",
       "              title=\"Convert this dataframe to an interactive table.\"\n",
       "              style=\"display:none;\">\n",
       "        \n",
       "  <svg xmlns=\"http://www.w3.org/2000/svg\" height=\"24px\"viewBox=\"0 0 24 24\"\n",
       "       width=\"24px\">\n",
       "    <path d=\"M0 0h24v24H0V0z\" fill=\"none\"/>\n",
       "    <path d=\"M18.56 5.44l.94 2.06.94-2.06 2.06-.94-2.06-.94-.94-2.06-.94 2.06-2.06.94zm-11 1L8.5 8.5l.94-2.06 2.06-.94-2.06-.94L8.5 2.5l-.94 2.06-2.06.94zm10 10l.94 2.06.94-2.06 2.06-.94-2.06-.94-.94-2.06-.94 2.06-2.06.94z\"/><path d=\"M17.41 7.96l-1.37-1.37c-.4-.4-.92-.59-1.43-.59-.52 0-1.04.2-1.43.59L10.3 9.45l-7.72 7.72c-.78.78-.78 2.05 0 2.83L4 21.41c.39.39.9.59 1.41.59.51 0 1.02-.2 1.41-.59l7.78-7.78 2.81-2.81c.8-.78.8-2.07 0-2.86zM5.41 20L4 18.59l7.72-7.72 1.47 1.35L5.41 20z\"/>\n",
       "  </svg>\n",
       "      </button>\n",
       "      \n",
       "  <style>\n",
       "    .colab-df-container {\n",
       "      display:flex;\n",
       "      flex-wrap:wrap;\n",
       "      gap: 12px;\n",
       "    }\n",
       "\n",
       "    .colab-df-convert {\n",
       "      background-color: #E8F0FE;\n",
       "      border: none;\n",
       "      border-radius: 50%;\n",
       "      cursor: pointer;\n",
       "      display: none;\n",
       "      fill: #1967D2;\n",
       "      height: 32px;\n",
       "      padding: 0 0 0 0;\n",
       "      width: 32px;\n",
       "    }\n",
       "\n",
       "    .colab-df-convert:hover {\n",
       "      background-color: #E2EBFA;\n",
       "      box-shadow: 0px 1px 2px rgba(60, 64, 67, 0.3), 0px 1px 3px 1px rgba(60, 64, 67, 0.15);\n",
       "      fill: #174EA6;\n",
       "    }\n",
       "\n",
       "    [theme=dark] .colab-df-convert {\n",
       "      background-color: #3B4455;\n",
       "      fill: #D2E3FC;\n",
       "    }\n",
       "\n",
       "    [theme=dark] .colab-df-convert:hover {\n",
       "      background-color: #434B5C;\n",
       "      box-shadow: 0px 1px 3px 1px rgba(0, 0, 0, 0.15);\n",
       "      filter: drop-shadow(0px 1px 2px rgba(0, 0, 0, 0.3));\n",
       "      fill: #FFFFFF;\n",
       "    }\n",
       "  </style>\n",
       "\n",
       "      <script>\n",
       "        const buttonEl =\n",
       "          document.querySelector('#df-4f5024de-3f32-4b55-b2b9-30faa1049640 button.colab-df-convert');\n",
       "        buttonEl.style.display =\n",
       "          google.colab.kernel.accessAllowed ? 'block' : 'none';\n",
       "\n",
       "        async function convertToInteractive(key) {\n",
       "          const element = document.querySelector('#df-4f5024de-3f32-4b55-b2b9-30faa1049640');\n",
       "          const dataTable =\n",
       "            await google.colab.kernel.invokeFunction('convertToInteractive',\n",
       "                                                     [key], {});\n",
       "          if (!dataTable) return;\n",
       "\n",
       "          const docLinkHtml = 'Like what you see? Visit the ' +\n",
       "            '<a target=\"_blank\" href=https://colab.research.google.com/notebooks/data_table.ipynb>data table notebook</a>'\n",
       "            + ' to learn more about interactive tables.';\n",
       "          element.innerHTML = '';\n",
       "          dataTable['output_type'] = 'display_data';\n",
       "          await google.colab.output.renderOutput(dataTable, element);\n",
       "          const docLink = document.createElement('div');\n",
       "          docLink.innerHTML = docLinkHtml;\n",
       "          element.appendChild(docLink);\n",
       "        }\n",
       "      </script>\n",
       "    </div>\n",
       "  </div>\n",
       "  "
      ],
      "text/plain": [
       "        GlobalRank  TldRank                    Domain  TLD  RefSubNets  \\\n",
       "0                1        1                google.com  com      491368   \n",
       "1                2        2              facebook.com  com      490021   \n",
       "2                3        3               youtube.com  com      441964   \n",
       "3                4        4               twitter.com  com      435398   \n",
       "4                5        5             instagram.com  com      372776   \n",
       "...            ...      ...                       ...  ...         ...   \n",
       "999995      999996   492007         theonenetwork.com  com         252   \n",
       "999996      999997   492008  thewatchmakerproject.com  com         252   \n",
       "999997      999998   492009            travelonly.com  com         252   \n",
       "999998      999999   492010          tvstandsonly.com  com         252   \n",
       "999999     1000000   492011       victorescandell.com  com         252   \n",
       "\n",
       "         RefIPs                IDN_Domain IDN_TLD  PrevGlobalRank  \\\n",
       "0       2416780                google.com     com               1   \n",
       "1       2566596              facebook.com     com               2   \n",
       "2       2081063               youtube.com     com               3   \n",
       "3       2064146               twitter.com     com               4   \n",
       "4       1718220             instagram.com     com               5   \n",
       "...         ...                       ...     ...             ...   \n",
       "999995      266         theonenetwork.com     com          991339   \n",
       "999996      266  thewatchmakerproject.com     com              -1   \n",
       "999997      266            travelonly.com     com              -1   \n",
       "999998      266          tvstandsonly.com     com              -1   \n",
       "999999      266       victorescandell.com     com              -1   \n",
       "\n",
       "        PrevTldRank  PrevRefSubNets  PrevRefIPs  \n",
       "0                 1          491249     2414156  \n",
       "1                 2          489727     2563797  \n",
       "2                 3          441842     2078756  \n",
       "3                 4          435139     2061964  \n",
       "4                 5          372696     1716399  \n",
       "...             ...             ...         ...  \n",
       "999995       487339             254         268  \n",
       "999996           -1              -1          -1  \n",
       "999997           -1              -1          -1  \n",
       "999998           -1              -1          -1  \n",
       "999999           -1              -1          -1  \n",
       "\n",
       "[1000000 rows x 12 columns]"
      ]
     },
     "execution_count": 64,
     "metadata": {},
     "output_type": "execute_result"
    }
   ],
   "source": [
    "majestic_million = pd.read_csv(\"https://downloads.majestic.com/majestic_million.csv\")\n",
    "majestic_million"
   ]
  },
  {
   "cell_type": "code",
   "execution_count": null,
   "metadata": {
    "id": "mK83o2m0_GBm"
   },
   "outputs": [],
   "source": [
    "domains = majestic_million[\"Domain\"].head(5000)\n",
    "#domains.sample(50)"
   ]
  },
  {
   "cell_type": "markdown",
   "metadata": {
    "id": "7cFt-_xwEfa5"
   },
   "source": [
    "## 2. Apprentissage autonome"
   ]
  },
  {
   "cell_type": "markdown",
   "metadata": {
    "id": "IJHwKq8-EwR0"
   },
   "source": [
    "### 2.1 Prétraitement"
   ]
  },
  {
   "cell_type": "code",
   "execution_count": null,
   "metadata": {
    "id": "7P-cNGVQEK0F"
   },
   "outputs": [],
   "source": [
    "from sklearn.feature_extraction.text import TfidfVectorizer"
   ]
  },
  {
   "cell_type": "code",
   "execution_count": null,
   "metadata": {
    "id": "u6mXedzZATom"
   },
   "outputs": [],
   "source": [
    "# 2.1.1 Expliquez le fonctionnement de TF-IDF à l'aide de l'article Wikipédia et de la doc scikit-learn.\n",
    "# ##### https://scikit-learn.org/stable/modules/generated/sklearn.feature_extraction.text.TfidfTransformer\n",
    "# ##### https://fr.wikipedia.org/wiki/TF-IDF"
   ]
  },
  {
   "cell_type": "code",
   "execution_count": null,
   "metadata": {
    "id": "x5WV_wz38u3r"
   },
   "outputs": [],
   "source": [
    "# 2.1.2 Instanciez TfidfVectorizer dans le contexte des noms de domaine.\n",
    "# ##### Quelle stratégie adoptez-vous ? Pour quelle raison ?\n",
    "pattern = r'(\\.|-|[a-zA-Z0-9][a-zA-Z0-9]?[a-zA-Z0-9]?)'\n",
    "vectorizer = TfidfVectorizer(analyzer=\"word\", token_pattern=pattern)"
   ]
  },
  {
   "cell_type": "code",
   "execution_count": null,
   "metadata": {
    "colab": {
     "base_uri": "https://localhost:8080/"
    },
    "id": "kgtgPhoD7x2L",
    "outputId": "78218f2d-c2d5-45c7-c812-897db9872223"
   },
   "outputs": [
    {
     "data": {
      "text/plain": [
       "(5000, 3863)"
      ]
     },
     "execution_count": 20,
     "metadata": {},
     "output_type": "execute_result"
    }
   ],
   "source": [
    "# 2.1.3 Appliquez le modèle sur vos données et commentez le résultat.\n",
    "X = vectorizer.fit_transform(domains)\n",
    "vectorizer.get_feature_names_out()\n",
    "X.shape"
   ]
  },
  {
   "cell_type": "markdown",
   "metadata": {
    "id": "Qy8x_-nVE1jT"
   },
   "source": [
    "### 2.2 Réduction"
   ]
  },
  {
   "cell_type": "code",
   "execution_count": null,
   "metadata": {
    "id": "ff2tOxjIE_F5"
   },
   "outputs": [],
   "source": [
    "from sklearn.decomposition import PCA\n",
    "from sklearn.decomposition import TruncatedSVD"
   ]
  },
  {
   "cell_type": "code",
   "execution_count": null,
   "metadata": {
    "id": "tCVWzlImEnrk"
   },
   "outputs": [],
   "source": [
    "# 2.2.1 Rappelez le fonctionnement de l'ACP à l'aide de l'article Wikipédia et de la doc scikit-learn.\n",
    "# ##### https://scikit-learn.org/stable/modules/generated/sklearn.decomposition.PCA\n",
    "# ##### https://fr.wikipedia.org/wiki/Analyse_en_composantes_principales\n"
   ]
  },
  {
   "cell_type": "code",
   "execution_count": null,
   "metadata": {
    "colab": {
     "base_uri": "https://localhost:8080/",
     "height": 348
    },
    "id": "_r-UYlEr8RCP",
    "outputId": "2c48763f-b07f-4eac-92c9-4073b29080df"
   },
   "outputs": [
    {
     "ename": "TypeError",
     "evalue": "ignored",
     "output_type": "error",
     "traceback": [
      "\u001b[0;31m---------------------------------------------------------------------------\u001b[0m",
      "\u001b[0;31mTypeError\u001b[0m                                 Traceback (most recent call last)",
      "\u001b[0;32m<ipython-input-22-379db778a3e1>\u001b[0m in \u001b[0;36m<module>\u001b[0;34m\u001b[0m\n\u001b[1;32m      1\u001b[0m \u001b[0;31m# 2.2.2.a Appliquez l'ACP à vos données vectorisées. Que se passe-t-il ?\u001b[0m\u001b[0;34m\u001b[0m\u001b[0;34m\u001b[0m\u001b[0;34m\u001b[0m\u001b[0m\n\u001b[1;32m      2\u001b[0m \u001b[0mreducer\u001b[0m \u001b[0;34m=\u001b[0m \u001b[0mPCA\u001b[0m\u001b[0;34m(\u001b[0m\u001b[0mn_components\u001b[0m\u001b[0;34m=\u001b[0m\u001b[0;36m2\u001b[0m\u001b[0;34m)\u001b[0m\u001b[0;34m\u001b[0m\u001b[0;34m\u001b[0m\u001b[0m\n\u001b[0;32m----> 3\u001b[0;31m \u001b[0mXr\u001b[0m \u001b[0;34m=\u001b[0m \u001b[0mreducer\u001b[0m\u001b[0;34m.\u001b[0m\u001b[0mfit_transform\u001b[0m\u001b[0;34m(\u001b[0m\u001b[0mX\u001b[0m\u001b[0;34m)\u001b[0m\u001b[0;34m\u001b[0m\u001b[0;34m\u001b[0m\u001b[0m\n\u001b[0m",
      "\u001b[0;32m/usr/local/lib/python3.7/dist-packages/sklearn/decomposition/_pca.py\u001b[0m in \u001b[0;36mfit_transform\u001b[0;34m(self, X, y)\u001b[0m\n\u001b[1;32m    405\u001b[0m         \u001b[0mC\u001b[0m\u001b[0;34m-\u001b[0m\u001b[0mordered\u001b[0m \u001b[0marray\u001b[0m\u001b[0;34m,\u001b[0m \u001b[0muse\u001b[0m \u001b[0;34m'np.ascontiguousarray'\u001b[0m\u001b[0;34m.\u001b[0m\u001b[0;34m\u001b[0m\u001b[0;34m\u001b[0m\u001b[0m\n\u001b[1;32m    406\u001b[0m         \"\"\"\n\u001b[0;32m--> 407\u001b[0;31m         \u001b[0mU\u001b[0m\u001b[0;34m,\u001b[0m \u001b[0mS\u001b[0m\u001b[0;34m,\u001b[0m \u001b[0mVt\u001b[0m \u001b[0;34m=\u001b[0m \u001b[0mself\u001b[0m\u001b[0;34m.\u001b[0m\u001b[0m_fit\u001b[0m\u001b[0;34m(\u001b[0m\u001b[0mX\u001b[0m\u001b[0;34m)\u001b[0m\u001b[0;34m\u001b[0m\u001b[0;34m\u001b[0m\u001b[0m\n\u001b[0m\u001b[1;32m    408\u001b[0m         \u001b[0mU\u001b[0m \u001b[0;34m=\u001b[0m \u001b[0mU\u001b[0m\u001b[0;34m[\u001b[0m\u001b[0;34m:\u001b[0m\u001b[0;34m,\u001b[0m \u001b[0;34m:\u001b[0m \u001b[0mself\u001b[0m\u001b[0;34m.\u001b[0m\u001b[0mn_components_\u001b[0m\u001b[0;34m]\u001b[0m\u001b[0;34m\u001b[0m\u001b[0;34m\u001b[0m\u001b[0m\n\u001b[1;32m    409\u001b[0m \u001b[0;34m\u001b[0m\u001b[0m\n",
      "\u001b[0;32m/usr/local/lib/python3.7/dist-packages/sklearn/decomposition/_pca.py\u001b[0m in \u001b[0;36m_fit\u001b[0;34m(self, X)\u001b[0m\n\u001b[1;32m    424\u001b[0m         \u001b[0;32mif\u001b[0m \u001b[0missparse\u001b[0m\u001b[0;34m(\u001b[0m\u001b[0mX\u001b[0m\u001b[0;34m)\u001b[0m\u001b[0;34m:\u001b[0m\u001b[0;34m\u001b[0m\u001b[0;34m\u001b[0m\u001b[0m\n\u001b[1;32m    425\u001b[0m             raise TypeError(\n\u001b[0;32m--> 426\u001b[0;31m                 \u001b[0;34m\"PCA does not support sparse input. See \"\u001b[0m\u001b[0;34m\u001b[0m\u001b[0;34m\u001b[0m\u001b[0m\n\u001b[0m\u001b[1;32m    427\u001b[0m                 \u001b[0;34m\"TruncatedSVD for a possible alternative.\"\u001b[0m\u001b[0;34m\u001b[0m\u001b[0;34m\u001b[0m\u001b[0m\n\u001b[1;32m    428\u001b[0m             )\n",
      "\u001b[0;31mTypeError\u001b[0m: PCA does not support sparse input. See TruncatedSVD for a possible alternative."
     ]
    }
   ],
   "source": [
    "# 2.2.2.a Appliquez l'ACP à vos données vectorisées. Que se passe-t-il ?\n",
    "reducer = PCA(n_components=2)\n",
    "Xr = reducer.fit_transform(X)"
   ]
  },
  {
   "cell_type": "code",
   "execution_count": null,
   "metadata": {
    "id": "flxqmMiU840S"
   },
   "outputs": [],
   "source": [
    "# 2.2.2.b Proposez une approche alternative.\n",
    "reducer = TruncatedSVD(n_components=2)\n",
    "Xr = reducer.fit_transform(X)"
   ]
  },
  {
   "cell_type": "code",
   "execution_count": null,
   "metadata": {
    "colab": {
     "base_uri": "https://localhost:8080/"
    },
    "id": "3tsj2Vy69GLN",
    "outputId": "86e60f0f-cff9-470f-8540-9d2fefb23b11"
   },
   "outputs": [
    {
     "data": {
      "text/plain": [
       "array([0.00280264, 0.01067585])"
      ]
     },
     "execution_count": 24,
     "metadata": {},
     "output_type": "execute_result"
    }
   ],
   "source": [
    "# 2.2.3 Commentez vos résultats, notamment variance expliquée et plan factoriel.\n",
    "reducer.explained_variance_ratio_\n",
    "#reducer.singular_values_\n",
    "#reducer.components_"
   ]
  },
  {
   "cell_type": "code",
   "execution_count": null,
   "metadata": {
    "id": "zBMYKEdSG0i8"
   },
   "outputs": [],
   "source": [
    "# 2.2.4.a BONUS: Comparez vos résultats avec une le modèle sklearn.manifold.TSNE."
   ]
  },
  {
   "cell_type": "code",
   "execution_count": null,
   "metadata": {
    "id": "WTI8y3GVPY6o"
   },
   "outputs": [],
   "source": [
    "# 2.2.4.b BONUS: Refaites une réduction en 3D et visualisez-la avec plotly express."
   ]
  },
  {
   "cell_type": "markdown",
   "metadata": {
    "id": "nY0tziQsFHCG"
   },
   "source": [
    "### 2.3 Regroupement"
   ]
  },
  {
   "cell_type": "code",
   "execution_count": null,
   "metadata": {
    "id": "MzpK42vOIhBO"
   },
   "outputs": [],
   "source": [
    "from sklearn.cluster import DBSCAN"
   ]
  },
  {
   "cell_type": "code",
   "execution_count": null,
   "metadata": {
    "id": "FyGhifNGISmh"
   },
   "outputs": [],
   "source": [
    "# 2.3.1 Rappelez le fonctionnement de DBSCAN à l'aide de l'article Wikipédia et de la doc scikit-learn.\n",
    "# ##### https://scikit-learn.org/stable/modules/generated/sklearn.cluster.DBSCAN\n",
    "# ##### https://fr.wikipedia.org/wiki/DBSCAN\n",
    "# ##### Pourquoi utiliser DBSCAN et non pas K-Means par exemple ?"
   ]
  },
  {
   "cell_type": "code",
   "execution_count": null,
   "metadata": {
    "id": "GG9QGzMg-YRU"
   },
   "outputs": [],
   "source": [
    "# 2.3.2 Instanciez votre modèle. Comment choisissez-vous eps et min_samples ?\n",
    "grouping = DBSCAN(eps=.08, min_samples=3)\n",
    "Xg = grouping.fit_predict(Xr)"
   ]
  },
  {
   "cell_type": "code",
   "execution_count": null,
   "metadata": {
    "colab": {
     "base_uri": "https://localhost:8080/",
     "height": 363
    },
    "id": "0izCWnpa_BsI",
    "outputId": "be4e5dca-f97b-4814-8e8c-0c96d9fb55b4"
   },
   "outputs": [
    {
     "data": {
      "text/html": [
       "\n",
       "  <div id=\"df-09df0a5e-6afa-45a1-bca4-89ff1a002ee3\">\n",
       "    <div class=\"colab-df-container\">\n",
       "      <div>\n",
       "<style scoped>\n",
       "    .dataframe tbody tr th:only-of-type {\n",
       "        vertical-align: middle;\n",
       "    }\n",
       "\n",
       "    .dataframe tbody tr th {\n",
       "        vertical-align: top;\n",
       "    }\n",
       "\n",
       "    .dataframe thead th {\n",
       "        text-align: right;\n",
       "    }\n",
       "</style>\n",
       "<table border=\"1\" class=\"dataframe\">\n",
       "  <thead>\n",
       "    <tr style=\"text-align: right;\">\n",
       "      <th></th>\n",
       "      <th>domaine</th>\n",
       "      <th>groupe</th>\n",
       "      <th>X</th>\n",
       "      <th>Y</th>\n",
       "    </tr>\n",
       "  </thead>\n",
       "  <tbody>\n",
       "    <tr>\n",
       "      <th>4684</th>\n",
       "      <td>elledecor.com</td>\n",
       "      <td>0</td>\n",
       "      <td>0.125443</td>\n",
       "      <td>-0.033221</td>\n",
       "    </tr>\n",
       "    <tr>\n",
       "      <th>2773</th>\n",
       "      <td>getresponse.com</td>\n",
       "      <td>0</td>\n",
       "      <td>0.124197</td>\n",
       "      <td>-0.031955</td>\n",
       "    </tr>\n",
       "    <tr>\n",
       "      <th>741</th>\n",
       "      <td>en.wiktionary.org</td>\n",
       "      <td>0</td>\n",
       "      <td>0.151897</td>\n",
       "      <td>-0.071048</td>\n",
       "    </tr>\n",
       "    <tr>\n",
       "      <th>2844</th>\n",
       "      <td>autonews.com</td>\n",
       "      <td>0</td>\n",
       "      <td>0.145218</td>\n",
       "      <td>-0.039912</td>\n",
       "    </tr>\n",
       "    <tr>\n",
       "      <th>2656</th>\n",
       "      <td>weheartit.com</td>\n",
       "      <td>0</td>\n",
       "      <td>0.113848</td>\n",
       "      <td>-0.029630</td>\n",
       "    </tr>\n",
       "    <tr>\n",
       "      <th>4191</th>\n",
       "      <td>datingrecensore.it</td>\n",
       "      <td>0</td>\n",
       "      <td>0.060906</td>\n",
       "      <td>-0.016302</td>\n",
       "    </tr>\n",
       "    <tr>\n",
       "      <th>597</th>\n",
       "      <td>today.com</td>\n",
       "      <td>0</td>\n",
       "      <td>0.155810</td>\n",
       "      <td>-0.040664</td>\n",
       "    </tr>\n",
       "    <tr>\n",
       "      <th>3828</th>\n",
       "      <td>telegraaf.nl</td>\n",
       "      <td>0</td>\n",
       "      <td>0.057559</td>\n",
       "      <td>-0.008877</td>\n",
       "    </tr>\n",
       "    <tr>\n",
       "      <th>1938</th>\n",
       "      <td>myportfolio.com</td>\n",
       "      <td>0</td>\n",
       "      <td>0.109663</td>\n",
       "      <td>-0.028099</td>\n",
       "    </tr>\n",
       "    <tr>\n",
       "      <th>2469</th>\n",
       "      <td>smartsheet.com</td>\n",
       "      <td>0</td>\n",
       "      <td>0.141410</td>\n",
       "      <td>-0.047119</td>\n",
       "    </tr>\n",
       "  </tbody>\n",
       "</table>\n",
       "</div>\n",
       "      <button class=\"colab-df-convert\" onclick=\"convertToInteractive('df-09df0a5e-6afa-45a1-bca4-89ff1a002ee3')\"\n",
       "              title=\"Convert this dataframe to an interactive table.\"\n",
       "              style=\"display:none;\">\n",
       "        \n",
       "  <svg xmlns=\"http://www.w3.org/2000/svg\" height=\"24px\"viewBox=\"0 0 24 24\"\n",
       "       width=\"24px\">\n",
       "    <path d=\"M0 0h24v24H0V0z\" fill=\"none\"/>\n",
       "    <path d=\"M18.56 5.44l.94 2.06.94-2.06 2.06-.94-2.06-.94-.94-2.06-.94 2.06-2.06.94zm-11 1L8.5 8.5l.94-2.06 2.06-.94-2.06-.94L8.5 2.5l-.94 2.06-2.06.94zm10 10l.94 2.06.94-2.06 2.06-.94-2.06-.94-.94-2.06-.94 2.06-2.06.94z\"/><path d=\"M17.41 7.96l-1.37-1.37c-.4-.4-.92-.59-1.43-.59-.52 0-1.04.2-1.43.59L10.3 9.45l-7.72 7.72c-.78.78-.78 2.05 0 2.83L4 21.41c.39.39.9.59 1.41.59.51 0 1.02-.2 1.41-.59l7.78-7.78 2.81-2.81c.8-.78.8-2.07 0-2.86zM5.41 20L4 18.59l7.72-7.72 1.47 1.35L5.41 20z\"/>\n",
       "  </svg>\n",
       "      </button>\n",
       "      \n",
       "  <style>\n",
       "    .colab-df-container {\n",
       "      display:flex;\n",
       "      flex-wrap:wrap;\n",
       "      gap: 12px;\n",
       "    }\n",
       "\n",
       "    .colab-df-convert {\n",
       "      background-color: #E8F0FE;\n",
       "      border: none;\n",
       "      border-radius: 50%;\n",
       "      cursor: pointer;\n",
       "      display: none;\n",
       "      fill: #1967D2;\n",
       "      height: 32px;\n",
       "      padding: 0 0 0 0;\n",
       "      width: 32px;\n",
       "    }\n",
       "\n",
       "    .colab-df-convert:hover {\n",
       "      background-color: #E2EBFA;\n",
       "      box-shadow: 0px 1px 2px rgba(60, 64, 67, 0.3), 0px 1px 3px 1px rgba(60, 64, 67, 0.15);\n",
       "      fill: #174EA6;\n",
       "    }\n",
       "\n",
       "    [theme=dark] .colab-df-convert {\n",
       "      background-color: #3B4455;\n",
       "      fill: #D2E3FC;\n",
       "    }\n",
       "\n",
       "    [theme=dark] .colab-df-convert:hover {\n",
       "      background-color: #434B5C;\n",
       "      box-shadow: 0px 1px 3px 1px rgba(0, 0, 0, 0.15);\n",
       "      filter: drop-shadow(0px 1px 2px rgba(0, 0, 0, 0.3));\n",
       "      fill: #FFFFFF;\n",
       "    }\n",
       "  </style>\n",
       "\n",
       "      <script>\n",
       "        const buttonEl =\n",
       "          document.querySelector('#df-09df0a5e-6afa-45a1-bca4-89ff1a002ee3 button.colab-df-convert');\n",
       "        buttonEl.style.display =\n",
       "          google.colab.kernel.accessAllowed ? 'block' : 'none';\n",
       "\n",
       "        async function convertToInteractive(key) {\n",
       "          const element = document.querySelector('#df-09df0a5e-6afa-45a1-bca4-89ff1a002ee3');\n",
       "          const dataTable =\n",
       "            await google.colab.kernel.invokeFunction('convertToInteractive',\n",
       "                                                     [key], {});\n",
       "          if (!dataTable) return;\n",
       "\n",
       "          const docLinkHtml = 'Like what you see? Visit the ' +\n",
       "            '<a target=\"_blank\" href=https://colab.research.google.com/notebooks/data_table.ipynb>data table notebook</a>'\n",
       "            + ' to learn more about interactive tables.';\n",
       "          element.innerHTML = '';\n",
       "          dataTable['output_type'] = 'display_data';\n",
       "          await google.colab.output.renderOutput(dataTable, element);\n",
       "          const docLink = document.createElement('div');\n",
       "          docLink.innerHTML = docLinkHtml;\n",
       "          element.appendChild(docLink);\n",
       "        }\n",
       "      </script>\n",
       "    </div>\n",
       "  </div>\n",
       "  "
      ],
      "text/plain": [
       "                 domaine groupe         X         Y\n",
       "4684       elledecor.com      0  0.125443 -0.033221\n",
       "2773     getresponse.com      0  0.124197 -0.031955\n",
       "741    en.wiktionary.org      0  0.151897 -0.071048\n",
       "2844        autonews.com      0  0.145218 -0.039912\n",
       "2656       weheartit.com      0  0.113848 -0.029630\n",
       "4191  datingrecensore.it      0  0.060906 -0.016302\n",
       "597            today.com      0  0.155810 -0.040664\n",
       "3828        telegraaf.nl      0  0.057559 -0.008877\n",
       "1938     myportfolio.com      0  0.109663 -0.028099\n",
       "2469      smartsheet.com      0  0.141410 -0.047119"
      ]
     },
     "execution_count": 59,
     "metadata": {},
     "output_type": "execute_result"
    }
   ],
   "source": [
    "# 2.3.3.a Créez un DataFrame de résultat et affichez-en un extrait.\n",
    "results = pd.DataFrame()\n",
    "results[\"domaine\"] = domains\n",
    "results[\"groupe\"] = pd.Series(grouping.labels_).astype(str)\n",
    "results[\"X\"] = Xr[:,0]\n",
    "results[\"Y\"] = Xr[:,1]\n",
    "results.sample(10)"
   ]
  },
  {
   "cell_type": "code",
   "execution_count": null,
   "metadata": {
    "colab": {
     "base_uri": "https://localhost:8080/",
     "height": 513
    },
    "id": "6xLqkj6yBNko",
    "outputId": "6d60bb67-a380-4e22-b3e0-1469865d7478"
   },
   "outputs": [
    {
     "data": {
      "image/png": "[encoded data removed]",
      "text/plain": [
       "<Figure size 1152x576 with 1 Axes>"
      ]
     },
     "metadata": {
      "needs_background": "light"
     },
     "output_type": "display_data"
    }
   ],
   "source": [
    "# 2.3.3.b Résumez les résultats à l'aide d'un graphe Seaborn.\n",
    "plt.figure(figsize=(16, 8));\n",
    "plt.title(\"Projection et regroupement des noms de domaines les plus actifs\")\n",
    "sns.scatterplot(data=results, x=\"X\", y=\"Y\", hue=\"groupe\", alpha=.3);"
   ]
  },
  {
   "cell_type": "code",
   "execution_count": null,
   "metadata": {
    "colab": {
     "base_uri": "https://localhost:8080/",
     "height": 206
    },
    "id": "FE74hi71CJZa",
    "outputId": "358043aa-7ed0-4159-a7a8-a16cb22a2548"
   },
   "outputs": [
    {
     "data": {
      "text/html": [
       "\n",
       "  <div id=\"df-1dd5727e-810b-4f11-a85a-be1945c3d6c1\">\n",
       "    <div class=\"colab-df-container\">\n",
       "      <div>\n",
       "<style scoped>\n",
       "    .dataframe tbody tr th:only-of-type {\n",
       "        vertical-align: middle;\n",
       "    }\n",
       "\n",
       "    .dataframe tbody tr th {\n",
       "        vertical-align: top;\n",
       "    }\n",
       "\n",
       "    .dataframe thead th {\n",
       "        text-align: right;\n",
       "    }\n",
       "</style>\n",
       "<table border=\"1\" class=\"dataframe\">\n",
       "  <thead>\n",
       "    <tr style=\"text-align: right;\">\n",
       "      <th></th>\n",
       "      <th>domaine</th>\n",
       "      <th>groupe</th>\n",
       "      <th>X</th>\n",
       "      <th>Y</th>\n",
       "    </tr>\n",
       "  </thead>\n",
       "  <tbody>\n",
       "    <tr>\n",
       "      <th>4598</th>\n",
       "      <td>google.co.bw</td>\n",
       "      <td>4</td>\n",
       "      <td>0.300165</td>\n",
       "      <td>0.509627</td>\n",
       "    </tr>\n",
       "    <tr>\n",
       "      <th>4755</th>\n",
       "      <td>google.co.ug</td>\n",
       "      <td>4</td>\n",
       "      <td>0.300165</td>\n",
       "      <td>0.509627</td>\n",
       "    </tr>\n",
       "    <tr>\n",
       "      <th>4897</th>\n",
       "      <td>google.co.zw</td>\n",
       "      <td>4</td>\n",
       "      <td>0.300165</td>\n",
       "      <td>0.509627</td>\n",
       "    </tr>\n",
       "    <tr>\n",
       "      <th>4929</th>\n",
       "      <td>google.co.zm</td>\n",
       "      <td>4</td>\n",
       "      <td>0.300165</td>\n",
       "      <td>0.509627</td>\n",
       "    </tr>\n",
       "    <tr>\n",
       "      <th>4963</th>\n",
       "      <td>google.co.uz</td>\n",
       "      <td>4</td>\n",
       "      <td>0.300165</td>\n",
       "      <td>0.509627</td>\n",
       "    </tr>\n",
       "  </tbody>\n",
       "</table>\n",
       "</div>\n",
       "      <button class=\"colab-df-convert\" onclick=\"convertToInteractive('df-1dd5727e-810b-4f11-a85a-be1945c3d6c1')\"\n",
       "              title=\"Convert this dataframe to an interactive table.\"\n",
       "              style=\"display:none;\">\n",
       "        \n",
       "  <svg xmlns=\"http://www.w3.org/2000/svg\" height=\"24px\"viewBox=\"0 0 24 24\"\n",
       "       width=\"24px\">\n",
       "    <path d=\"M0 0h24v24H0V0z\" fill=\"none\"/>\n",
       "    <path d=\"M18.56 5.44l.94 2.06.94-2.06 2.06-.94-2.06-.94-.94-2.06-.94 2.06-2.06.94zm-11 1L8.5 8.5l.94-2.06 2.06-.94-2.06-.94L8.5 2.5l-.94 2.06-2.06.94zm10 10l.94 2.06.94-2.06 2.06-.94-2.06-.94-.94-2.06-.94 2.06-2.06.94z\"/><path d=\"M17.41 7.96l-1.37-1.37c-.4-.4-.92-.59-1.43-.59-.52 0-1.04.2-1.43.59L10.3 9.45l-7.72 7.72c-.78.78-.78 2.05 0 2.83L4 21.41c.39.39.9.59 1.41.59.51 0 1.02-.2 1.41-.59l7.78-7.78 2.81-2.81c.8-.78.8-2.07 0-2.86zM5.41 20L4 18.59l7.72-7.72 1.47 1.35L5.41 20z\"/>\n",
       "  </svg>\n",
       "      </button>\n",
       "      \n",
       "  <style>\n",
       "    .colab-df-container {\n",
       "      display:flex;\n",
       "      flex-wrap:wrap;\n",
       "      gap: 12px;\n",
       "    }\n",
       "\n",
       "    .colab-df-convert {\n",
       "      background-color: #E8F0FE;\n",
       "      border: none;\n",
       "      border-radius: 50%;\n",
       "      cursor: pointer;\n",
       "      display: none;\n",
       "      fill: #1967D2;\n",
       "      height: 32px;\n",
       "      padding: 0 0 0 0;\n",
       "      width: 32px;\n",
       "    }\n",
       "\n",
       "    .colab-df-convert:hover {\n",
       "      background-color: #E2EBFA;\n",
       "      box-shadow: 0px 1px 2px rgba(60, 64, 67, 0.3), 0px 1px 3px 1px rgba(60, 64, 67, 0.15);\n",
       "      fill: #174EA6;\n",
       "    }\n",
       "\n",
       "    [theme=dark] .colab-df-convert {\n",
       "      background-color: #3B4455;\n",
       "      fill: #D2E3FC;\n",
       "    }\n",
       "\n",
       "    [theme=dark] .colab-df-convert:hover {\n",
       "      background-color: #434B5C;\n",
       "      box-shadow: 0px 1px 3px 1px rgba(0, 0, 0, 0.15);\n",
       "      filter: drop-shadow(0px 1px 2px rgba(0, 0, 0, 0.3));\n",
       "      fill: #FFFFFF;\n",
       "    }\n",
       "  </style>\n",
       "\n",
       "      <script>\n",
       "        const buttonEl =\n",
       "          document.querySelector('#df-1dd5727e-810b-4f11-a85a-be1945c3d6c1 button.colab-df-convert');\n",
       "        buttonEl.style.display =\n",
       "          google.colab.kernel.accessAllowed ? 'block' : 'none';\n",
       "\n",
       "        async function convertToInteractive(key) {\n",
       "          const element = document.querySelector('#df-1dd5727e-810b-4f11-a85a-be1945c3d6c1');\n",
       "          const dataTable =\n",
       "            await google.colab.kernel.invokeFunction('convertToInteractive',\n",
       "                                                     [key], {});\n",
       "          if (!dataTable) return;\n",
       "\n",
       "          const docLinkHtml = 'Like what you see? Visit the ' +\n",
       "            '<a target=\"_blank\" href=https://colab.research.google.com/notebooks/data_table.ipynb>data table notebook</a>'\n",
       "            + ' to learn more about interactive tables.';\n",
       "          element.innerHTML = '';\n",
       "          dataTable['output_type'] = 'display_data';\n",
       "          await google.colab.output.renderOutput(dataTable, element);\n",
       "          const docLink = document.createElement('div');\n",
       "          docLink.innerHTML = docLinkHtml;\n",
       "          element.appendChild(docLink);\n",
       "        }\n",
       "      </script>\n",
       "    </div>\n",
       "  </div>\n",
       "  "
      ],
      "text/plain": [
       "           domaine groupe         X         Y\n",
       "4598  google.co.bw      4  0.300165  0.509627\n",
       "4755  google.co.ug      4  0.300165  0.509627\n",
       "4897  google.co.zw      4  0.300165  0.509627\n",
       "4929  google.co.zm      4  0.300165  0.509627\n",
       "4963  google.co.uz      4  0.300165  0.509627"
      ]
     },
     "execution_count": 70,
     "metadata": {},
     "output_type": "execute_result"
    }
   ],
   "source": [
    "# 2.3.3.c Comment récupérer les membres d'un même groupe ?\n",
    "# ####### Qualifiez vos résultats de regroupement.\n",
    "import random\n",
    "results[results.groupe == str(random.randint(-1,72))]"
   ]
  },
  {
   "cell_type": "code",
   "execution_count": null,
   "metadata": {
    "id": "ixlnPdxYL38w"
   },
   "outputs": [],
   "source": [
    "# 2.3.4 BONUS: Comment ajuster automatiquement vos hyperparamètres ?"
   ]
  },
  {
   "cell_type": "markdown",
   "metadata": {
    "id": "2XtDjIFYFgpy"
   },
   "source": [
    "## 3. Apprentissage supervisé"
   ]
  },
  {
   "cell_type": "code",
   "execution_count": null,
   "metadata": {
    "colab": {
     "base_uri": "https://localhost:8080/"
    },
    "id": "wwN_QzE5-rwG",
    "outputId": "e1b001cd-6139-481c-b88f-a4592267b1f3"
   },
   "outputs": [
    {
     "name": "stdout",
     "output_type": "stream",
     "text": [
      "Looking in indexes: https://pypi.org/simple, https://us-python.pkg.dev/colab-wheels/public/simple/\n",
      "Collecting git+https://github.com/ail-project/ail-typo-squatting\n",
      "  Cloning https://github.com/ail-project/ail-typo-squatting to /tmp/pip-req-build-ue_bgl9w\n",
      "  Running command git clone -q https://github.com/ail-project/ail-typo-squatting /tmp/pip-req-build-ue_bgl9w\n",
      "  Installing build dependencies ... \u001b[?25l\u001b[?25hdone\n",
      "  Getting requirements to build wheel ... \u001b[?25l\u001b[?25hdone\n",
      "    Preparing wheel metadata ... \u001b[?25l\u001b[?25hdone\n",
      "Requirement already satisfied: pyyaml<7.0,>=6.0 in /usr/local/lib/python3.7/dist-packages (from ail-typo-squatting==2.1.0) (6.0)\n",
      "Collecting inflect<6.0.0,>=5.3.0\n",
      "  Downloading inflect-5.6.2-py3-none-any.whl (33 kB)\n",
      "Collecting tldextract<4.0.0,>=3.1.2\n",
      "  Downloading tldextract-3.4.0-py3-none-any.whl (93 kB)\n",
      "\u001b[K     |████████████████████████████████| 93 kB 1.7 MB/s \n",
      "\u001b[?25hRequirement already satisfied: dnspython<3.0.0,>=2.2.0 in /usr/local/lib/python3.7/dist-packages (from ail-typo-squatting==2.1.0) (2.2.1)\n",
      "Requirement already satisfied: idna in /usr/local/lib/python3.7/dist-packages (from tldextract<4.0.0,>=3.1.2->ail-typo-squatting==2.1.0) (2.10)\n",
      "Requirement already satisfied: requests>=2.1.0 in /usr/local/lib/python3.7/dist-packages (from tldextract<4.0.0,>=3.1.2->ail-typo-squatting==2.1.0) (2.23.0)\n",
      "Requirement already satisfied: filelock>=3.0.8 in /usr/local/lib/python3.7/dist-packages (from tldextract<4.0.0,>=3.1.2->ail-typo-squatting==2.1.0) (3.8.0)\n",
      "Collecting requests-file>=1.4\n",
      "  Downloading requests_file-1.5.1-py2.py3-none-any.whl (3.7 kB)\n",
      "Requirement already satisfied: certifi>=2017.4.17 in /usr/local/lib/python3.7/dist-packages (from requests>=2.1.0->tldextract<4.0.0,>=3.1.2->ail-typo-squatting==2.1.0) (2022.9.24)\n",
      "Requirement already satisfied: chardet<4,>=3.0.2 in /usr/local/lib/python3.7/dist-packages (from requests>=2.1.0->tldextract<4.0.0,>=3.1.2->ail-typo-squatting==2.1.0) (3.0.4)\n",
      "Requirement already satisfied: urllib3!=1.25.0,!=1.25.1,<1.26,>=1.21.1 in /usr/local/lib/python3.7/dist-packages (from requests>=2.1.0->tldextract<4.0.0,>=3.1.2->ail-typo-squatting==2.1.0) (1.24.3)\n",
      "Requirement already satisfied: six in /usr/local/lib/python3.7/dist-packages (from requests-file>=1.4->tldextract<4.0.0,>=3.1.2->ail-typo-squatting==2.1.0) (1.15.0)\n",
      "Building wheels for collected packages: ail-typo-squatting\n",
      "  Building wheel for ail-typo-squatting (PEP 517) ... \u001b[?25l\u001b[?25hdone\n",
      "  Created wheel for ail-typo-squatting: filename=ail_typo_squatting-2.1.0-py3-none-any.whl size=54112 sha256=bbe0c7c6666e9d6b5e35647ef3e1908f139f0715d6acc669b780a9d5e0b98e04\n",
      "  Stored in directory: /tmp/pip-ephem-wheel-cache-10ez3oza/wheels/0f/d9/76/e538930ccd5f12614317ac2faa2e04f490b712d65e288b6573\n",
      "Successfully built ail-typo-squatting\n",
      "Installing collected packages: requests-file, tldextract, inflect, ail-typo-squatting\n",
      "  Attempting uninstall: inflect\n",
      "    Found existing installation: inflect 2.1.0\n",
      "    Uninstalling inflect-2.1.0:\n",
      "      Successfully uninstalled inflect-2.1.0\n",
      "Successfully installed ail-typo-squatting-2.1.0 inflect-5.6.2 requests-file-1.5.1 tldextract-3.4.0\n"
     ]
    }
   ],
   "source": [
    "!pip3 install git+https://github.com/ail-project/ail-typo-squatting"
   ]
  },
  {
   "cell_type": "code",
   "execution_count": null,
   "metadata": {
    "id": "0ehTd63j_Fyi"
   },
   "outputs": [],
   "source": [
    "import ail_typo_squatting as ats"
   ]
  },
  {
   "cell_type": "markdown",
   "metadata": {
    "id": "6Ua79FIwFtKc"
   },
   "source": [
    "### 3.1 Pré-traitement"
   ]
  },
  {
   "cell_type": "code",
   "execution_count": null,
   "metadata": {
    "id": "KpfGrQS7EKPH"
   },
   "outputs": [],
   "source": [
    "from textdistance import levenshtein"
   ]
  },
  {
   "cell_type": "code",
   "execution_count": null,
   "metadata": {
    "id": "j8MxUWRzkv-5"
   },
   "outputs": [],
   "source": [
    "# 3.1.1 Expliquez le fonctionnement de la distance de Levenshtein à l'aide de l'article Wikipédia.\n",
    "# ##### Comment passer d'une distance à une mesure de similarité entre deux noms de domaine ?\n",
    "# ##### https://fr.wikipedia.org/wiki/Distance_de_Levenshtein"
   ]
  },
  {
   "cell_type": "code",
   "execution_count": null,
   "metadata": {
    "colab": {
     "base_uri": "https://localhost:8080/"
    },
    "id": "zDBBeRXNlUWu",
    "outputId": "428a4046-a370-4850-937f-216cc6bed382"
   },
   "outputs": [
    {
     "data": {
      "text/plain": [
       "0.7777777777777778"
      ]
     },
     "execution_count": 69,
     "metadata": {},
     "output_type": "execute_result"
    }
   ],
   "source": [
    "# 3.1.2 Implémentez votre mesure de similarité et testez-la avec les échantillons fournis.\n",
    "\n",
    "p1 = (\"grenoble-inp.fr\", \"bordeaux-inp.fr\")\n",
    "p2 = (\"grenoble-inp.fr\", \"gren0ble-inp.fr\")\n",
    "p3 = (\"duckduckgo.com\", \"ddg.gg\")\n",
    "p4 = (\"google.fr\", \"google.it\")\n",
    "\n",
    "similarite = lambda x, y: 1 - (levenshtein(x, y) / max(len(x), len(y)))\n",
    "\n",
    "similarite(*p1)\n",
    "similarite(*p2)\n",
    "similarite(*p3)\n",
    "similarite(*p4)"
   ]
  },
  {
   "cell_type": "code",
   "execution_count": null,
   "metadata": {
    "id": "bDna1gCnoIZJ"
   },
   "outputs": [],
   "source": [
    "# 3.1.3 Au vu de vos précédents résultats, définissez une stratégie de détection de typosquattage.\n",
    "# ##### https://fr.wikipedia.org/wiki/Typosquattage"
   ]
  },
  {
   "cell_type": "code",
   "execution_count": null,
   "metadata": {
    "colab": {
     "base_uri": "https://localhost:8080/",
     "height": 424
    },
    "id": "VdTVX8PKZhrx",
    "outputId": "85c9ab39-bd11-4aac-c059-f47cc84f0f90"
   },
   "outputs": [
    {
     "data": {
      "text/html": [
       "\n",
       "  <div id=\"df-4e9995c1-0b00-49aa-859e-ee6fb264413f\">\n",
       "    <div class=\"colab-df-container\">\n",
       "      <div>\n",
       "<style scoped>\n",
       "    .dataframe tbody tr th:only-of-type {\n",
       "        vertical-align: middle;\n",
       "    }\n",
       "\n",
       "    .dataframe tbody tr th {\n",
       "        vertical-align: top;\n",
       "    }\n",
       "\n",
       "    .dataframe thead th {\n",
       "        text-align: right;\n",
       "    }\n",
       "</style>\n",
       "<table border=\"1\" class=\"dataframe\">\n",
       "  <thead>\n",
       "    <tr style=\"text-align: right;\">\n",
       "      <th></th>\n",
       "      <th>0</th>\n",
       "      <th>1</th>\n",
       "      <th>2</th>\n",
       "      <th>label</th>\n",
       "    </tr>\n",
       "  </thead>\n",
       "  <tbody>\n",
       "    <tr>\n",
       "      <th>0</th>\n",
       "      <td>grenoble-inp.fr</td>\n",
       "      <td>grenoble-inp.report</td>\n",
       "      <td>0.736842</td>\n",
       "      <td>1</td>\n",
       "    </tr>\n",
       "    <tr>\n",
       "      <th>1</th>\n",
       "      <td>grenoble-inp.fr</td>\n",
       "      <td>grenoble-inp.coach</td>\n",
       "      <td>0.722222</td>\n",
       "      <td>1</td>\n",
       "    </tr>\n",
       "    <tr>\n",
       "      <th>2</th>\n",
       "      <td>grenoble-inp.fr</td>\n",
       "      <td>grenoble-inp.americanexpress</td>\n",
       "      <td>0.5</td>\n",
       "      <td>1</td>\n",
       "    </tr>\n",
       "    <tr>\n",
       "      <th>3</th>\n",
       "      <td>grenoble-inp.fr</td>\n",
       "      <td>grenoble-inp.br</td>\n",
       "      <td>0.933333</td>\n",
       "      <td>1</td>\n",
       "    </tr>\n",
       "    <tr>\n",
       "      <th>4</th>\n",
       "      <td>grenoble-inp.fr</td>\n",
       "      <td>grenoble-inp.kuokgroup</td>\n",
       "      <td>0.636364</td>\n",
       "      <td>1</td>\n",
       "    </tr>\n",
       "    <tr>\n",
       "      <th>...</th>\n",
       "      <td>...</td>\n",
       "      <td>...</td>\n",
       "      <td>...</td>\n",
       "      <td>...</td>\n",
       "    </tr>\n",
       "    <tr>\n",
       "      <th>15</th>\n",
       "      <td>devdocs.io</td>\n",
       "      <td>devdocs.si</td>\n",
       "      <td>0.8</td>\n",
       "      <td>1</td>\n",
       "    </tr>\n",
       "    <tr>\n",
       "      <th>16</th>\n",
       "      <td>devdocs.io</td>\n",
       "      <td>devdocs.nissay</td>\n",
       "      <td>0.642857</td>\n",
       "      <td>1</td>\n",
       "    </tr>\n",
       "    <tr>\n",
       "      <th>17</th>\n",
       "      <td>devdocs.io</td>\n",
       "      <td>devdocs.ng</td>\n",
       "      <td>0.8</td>\n",
       "      <td>1</td>\n",
       "    </tr>\n",
       "    <tr>\n",
       "      <th>18</th>\n",
       "      <td>devdocs.io</td>\n",
       "      <td>devdocs.xn--3ds443g</td>\n",
       "      <td>0.421053</td>\n",
       "      <td>1</td>\n",
       "    </tr>\n",
       "    <tr>\n",
       "      <th>19</th>\n",
       "      <td>devdocs.io</td>\n",
       "      <td>devdocs.taxi</td>\n",
       "      <td>0.666667</td>\n",
       "      <td>1</td>\n",
       "    </tr>\n",
       "  </tbody>\n",
       "</table>\n",
       "<p>80 rows × 4 columns</p>\n",
       "</div>\n",
       "      <button class=\"colab-df-convert\" onclick=\"convertToInteractive('df-4e9995c1-0b00-49aa-859e-ee6fb264413f')\"\n",
       "              title=\"Convert this dataframe to an interactive table.\"\n",
       "              style=\"display:none;\">\n",
       "        \n",
       "  <svg xmlns=\"http://www.w3.org/2000/svg\" height=\"24px\"viewBox=\"0 0 24 24\"\n",
       "       width=\"24px\">\n",
       "    <path d=\"M0 0h24v24H0V0z\" fill=\"none\"/>\n",
       "    <path d=\"M18.56 5.44l.94 2.06.94-2.06 2.06-.94-2.06-.94-.94-2.06-.94 2.06-2.06.94zm-11 1L8.5 8.5l.94-2.06 2.06-.94-2.06-.94L8.5 2.5l-.94 2.06-2.06.94zm10 10l.94 2.06.94-2.06 2.06-.94-2.06-.94-.94-2.06-.94 2.06-2.06.94z\"/><path d=\"M17.41 7.96l-1.37-1.37c-.4-.4-.92-.59-1.43-.59-.52 0-1.04.2-1.43.59L10.3 9.45l-7.72 7.72c-.78.78-.78 2.05 0 2.83L4 21.41c.39.39.9.59 1.41.59.51 0 1.02-.2 1.41-.59l7.78-7.78 2.81-2.81c.8-.78.8-2.07 0-2.86zM5.41 20L4 18.59l7.72-7.72 1.47 1.35L5.41 20z\"/>\n",
       "  </svg>\n",
       "      </button>\n",
       "      \n",
       "  <style>\n",
       "    .colab-df-container {\n",
       "      display:flex;\n",
       "      flex-wrap:wrap;\n",
       "      gap: 12px;\n",
       "    }\n",
       "\n",
       "    .colab-df-convert {\n",
       "      background-color: #E8F0FE;\n",
       "      border: none;\n",
       "      border-radius: 50%;\n",
       "      cursor: pointer;\n",
       "      display: none;\n",
       "      fill: #1967D2;\n",
       "      height: 32px;\n",
       "      padding: 0 0 0 0;\n",
       "      width: 32px;\n",
       "    }\n",
       "\n",
       "    .colab-df-convert:hover {\n",
       "      background-color: #E2EBFA;\n",
       "      box-shadow: 0px 1px 2px rgba(60, 64, 67, 0.3), 0px 1px 3px 1px rgba(60, 64, 67, 0.15);\n",
       "      fill: #174EA6;\n",
       "    }\n",
       "\n",
       "    [theme=dark] .colab-df-convert {\n",
       "      background-color: #3B4455;\n",
       "      fill: #D2E3FC;\n",
       "    }\n",
       "\n",
       "    [theme=dark] .colab-df-convert:hover {\n",
       "      background-color: #434B5C;\n",
       "      box-shadow: 0px 1px 3px 1px rgba(0, 0, 0, 0.15);\n",
       "      filter: drop-shadow(0px 1px 2px rgba(0, 0, 0, 0.3));\n",
       "      fill: #FFFFFF;\n",
       "    }\n",
       "  </style>\n",
       "\n",
       "      <script>\n",
       "        const buttonEl =\n",
       "          document.querySelector('#df-4e9995c1-0b00-49aa-859e-ee6fb264413f button.colab-df-convert');\n",
       "        buttonEl.style.display =\n",
       "          google.colab.kernel.accessAllowed ? 'block' : 'none';\n",
       "\n",
       "        async function convertToInteractive(key) {\n",
       "          const element = document.querySelector('#df-4e9995c1-0b00-49aa-859e-ee6fb264413f');\n",
       "          const dataTable =\n",
       "            await google.colab.kernel.invokeFunction('convertToInteractive',\n",
       "                                                     [key], {});\n",
       "          if (!dataTable) return;\n",
       "\n",
       "          const docLinkHtml = 'Like what you see? Visit the ' +\n",
       "            '<a target=\"_blank\" href=https://colab.research.google.com/notebooks/data_table.ipynb>data table notebook</a>'\n",
       "            + ' to learn more about interactive tables.';\n",
       "          element.innerHTML = '';\n",
       "          dataTable['output_type'] = 'display_data';\n",
       "          await google.colab.output.renderOutput(dataTable, element);\n",
       "          const docLink = document.createElement('div');\n",
       "          docLink.innerHTML = docLinkHtml;\n",
       "          element.appendChild(docLink);\n",
       "        }\n",
       "      </script>\n",
       "    </div>\n",
       "  </div>\n",
       "  "
      ],
      "text/plain": [
       "                  0                             1         2  label\n",
       "0   grenoble-inp.fr           grenoble-inp.report  0.736842      1\n",
       "1   grenoble-inp.fr            grenoble-inp.coach  0.722222      1\n",
       "2   grenoble-inp.fr  grenoble-inp.americanexpress       0.5      1\n",
       "3   grenoble-inp.fr               grenoble-inp.br  0.933333      1\n",
       "4   grenoble-inp.fr        grenoble-inp.kuokgroup  0.636364      1\n",
       "..              ...                           ...       ...    ...\n",
       "15       devdocs.io                    devdocs.si       0.8      1\n",
       "16       devdocs.io                devdocs.nissay  0.642857      1\n",
       "17       devdocs.io                    devdocs.ng       0.8      1\n",
       "18       devdocs.io           devdocs.xn--3ds443g  0.421053      1\n",
       "19       devdocs.io                  devdocs.taxi  0.666667      1\n",
       "\n",
       "[80 rows x 4 columns]"
      ]
     },
     "execution_count": 70,
     "metadata": {},
     "output_type": "execute_result"
    }
   ],
   "source": [
    "victims = [\"grenoble-inp.fr\", \"pyformat.info\", \"hypothesis.works\", \"devdocs.io\"]\n",
    "\n",
    "positives = pd.DataFrame()\n",
    "\n",
    "for v in victims:\n",
    "  reference = pd.Series([v]*20)\n",
    "  observables = ats.runAll(v, limit=2000, formatoutput=\"text\", pathOutput=\"\")\n",
    "  observables = pd.Series(observables).sample(20).reset_index(drop=True)\n",
    "  scores = observables.apply(lambda x: similarite(x, v))\n",
    "  temp = pd.DataFrame([reference, observables, scores]).T\n",
    "\n",
    "  positives = pd.concat([positives, temp], axis=\"rows\")\n",
    "\n",
    "positives[\"label\"] = 1\n",
    "positives"
   ]
  },
  {
   "cell_type": "code",
   "execution_count": null,
   "metadata": {
    "colab": {
     "base_uri": "https://localhost:8080/",
     "height": 424
    },
    "id": "DFIoNMOZPg2o",
    "outputId": "b5ef2985-eb38-45bb-c288-9759ab86ab13"
   },
   "outputs": [
    {
     "data": {
      "text/html": [
       "\n",
       "  <div id=\"df-688d7e2d-1d2a-480d-82cb-277104b1b057\">\n",
       "    <div class=\"colab-df-container\">\n",
       "      <div>\n",
       "<style scoped>\n",
       "    .dataframe tbody tr th:only-of-type {\n",
       "        vertical-align: middle;\n",
       "    }\n",
       "\n",
       "    .dataframe tbody tr th {\n",
       "        vertical-align: top;\n",
       "    }\n",
       "\n",
       "    .dataframe thead th {\n",
       "        text-align: right;\n",
       "    }\n",
       "</style>\n",
       "<table border=\"1\" class=\"dataframe\">\n",
       "  <thead>\n",
       "    <tr style=\"text-align: right;\">\n",
       "      <th></th>\n",
       "      <th>0</th>\n",
       "      <th>1</th>\n",
       "      <th>2</th>\n",
       "      <th>label</th>\n",
       "    </tr>\n",
       "  </thead>\n",
       "  <tbody>\n",
       "    <tr>\n",
       "      <th>0</th>\n",
       "      <td>grenoble-inp.fr</td>\n",
       "      <td>ikea.com</td>\n",
       "      <td>0.066667</td>\n",
       "      <td>0</td>\n",
       "    </tr>\n",
       "    <tr>\n",
       "      <th>1</th>\n",
       "      <td>grenoble-inp.fr</td>\n",
       "      <td>amzn.to</td>\n",
       "      <td>0.133333</td>\n",
       "      <td>0</td>\n",
       "    </tr>\n",
       "    <tr>\n",
       "      <th>2</th>\n",
       "      <td>grenoble-inp.fr</td>\n",
       "      <td>unlv.edu</td>\n",
       "      <td>0.133333</td>\n",
       "      <td>0</td>\n",
       "    </tr>\n",
       "    <tr>\n",
       "      <th>3</th>\n",
       "      <td>grenoble-inp.fr</td>\n",
       "      <td>americanprogress.org</td>\n",
       "      <td>0.2</td>\n",
       "      <td>0</td>\n",
       "    </tr>\n",
       "    <tr>\n",
       "      <th>4</th>\n",
       "      <td>grenoble-inp.fr</td>\n",
       "      <td>csoonline.com</td>\n",
       "      <td>0.266667</td>\n",
       "      <td>0</td>\n",
       "    </tr>\n",
       "    <tr>\n",
       "      <th>...</th>\n",
       "      <td>...</td>\n",
       "      <td>...</td>\n",
       "      <td>...</td>\n",
       "      <td>...</td>\n",
       "    </tr>\n",
       "    <tr>\n",
       "      <th>15</th>\n",
       "      <td>devdocs.io</td>\n",
       "      <td>pravo.gov.ru</td>\n",
       "      <td>0.166667</td>\n",
       "      <td>0</td>\n",
       "    </tr>\n",
       "    <tr>\n",
       "      <th>16</th>\n",
       "      <td>devdocs.io</td>\n",
       "      <td>mikecrm.com</td>\n",
       "      <td>0.181818</td>\n",
       "      <td>0</td>\n",
       "    </tr>\n",
       "    <tr>\n",
       "      <th>17</th>\n",
       "      <td>devdocs.io</td>\n",
       "      <td>fgov.be</td>\n",
       "      <td>0.2</td>\n",
       "      <td>0</td>\n",
       "    </tr>\n",
       "    <tr>\n",
       "      <th>18</th>\n",
       "      <td>devdocs.io</td>\n",
       "      <td>imore.com</td>\n",
       "      <td>0.2</td>\n",
       "      <td>0</td>\n",
       "    </tr>\n",
       "    <tr>\n",
       "      <th>19</th>\n",
       "      <td>devdocs.io</td>\n",
       "      <td>francebleu.fr</td>\n",
       "      <td>0.076923</td>\n",
       "      <td>0</td>\n",
       "    </tr>\n",
       "  </tbody>\n",
       "</table>\n",
       "<p>80 rows × 4 columns</p>\n",
       "</div>\n",
       "      <button class=\"colab-df-convert\" onclick=\"convertToInteractive('df-688d7e2d-1d2a-480d-82cb-277104b1b057')\"\n",
       "              title=\"Convert this dataframe to an interactive table.\"\n",
       "              style=\"display:none;\">\n",
       "        \n",
       "  <svg xmlns=\"http://www.w3.org/2000/svg\" height=\"24px\"viewBox=\"0 0 24 24\"\n",
       "       width=\"24px\">\n",
       "    <path d=\"M0 0h24v24H0V0z\" fill=\"none\"/>\n",
       "    <path d=\"M18.56 5.44l.94 2.06.94-2.06 2.06-.94-2.06-.94-.94-2.06-.94 2.06-2.06.94zm-11 1L8.5 8.5l.94-2.06 2.06-.94-2.06-.94L8.5 2.5l-.94 2.06-2.06.94zm10 10l.94 2.06.94-2.06 2.06-.94-2.06-.94-.94-2.06-.94 2.06-2.06.94z\"/><path d=\"M17.41 7.96l-1.37-1.37c-.4-.4-.92-.59-1.43-.59-.52 0-1.04.2-1.43.59L10.3 9.45l-7.72 7.72c-.78.78-.78 2.05 0 2.83L4 21.41c.39.39.9.59 1.41.59.51 0 1.02-.2 1.41-.59l7.78-7.78 2.81-2.81c.8-.78.8-2.07 0-2.86zM5.41 20L4 18.59l7.72-7.72 1.47 1.35L5.41 20z\"/>\n",
       "  </svg>\n",
       "      </button>\n",
       "      \n",
       "  <style>\n",
       "    .colab-df-container {\n",
       "      display:flex;\n",
       "      flex-wrap:wrap;\n",
       "      gap: 12px;\n",
       "    }\n",
       "\n",
       "    .colab-df-convert {\n",
       "      background-color: #E8F0FE;\n",
       "      border: none;\n",
       "      border-radius: 50%;\n",
       "      cursor: pointer;\n",
       "      display: none;\n",
       "      fill: #1967D2;\n",
       "      height: 32px;\n",
       "      padding: 0 0 0 0;\n",
       "      width: 32px;\n",
       "    }\n",
       "\n",
       "    .colab-df-convert:hover {\n",
       "      background-color: #E2EBFA;\n",
       "      box-shadow: 0px 1px 2px rgba(60, 64, 67, 0.3), 0px 1px 3px 1px rgba(60, 64, 67, 0.15);\n",
       "      fill: #174EA6;\n",
       "    }\n",
       "\n",
       "    [theme=dark] .colab-df-convert {\n",
       "      background-color: #3B4455;\n",
       "      fill: #D2E3FC;\n",
       "    }\n",
       "\n",
       "    [theme=dark] .colab-df-convert:hover {\n",
       "      background-color: #434B5C;\n",
       "      box-shadow: 0px 1px 3px 1px rgba(0, 0, 0, 0.15);\n",
       "      filter: drop-shadow(0px 1px 2px rgba(0, 0, 0, 0.3));\n",
       "      fill: #FFFFFF;\n",
       "    }\n",
       "  </style>\n",
       "\n",
       "      <script>\n",
       "        const buttonEl =\n",
       "          document.querySelector('#df-688d7e2d-1d2a-480d-82cb-277104b1b057 button.colab-df-convert');\n",
       "        buttonEl.style.display =\n",
       "          google.colab.kernel.accessAllowed ? 'block' : 'none';\n",
       "\n",
       "        async function convertToInteractive(key) {\n",
       "          const element = document.querySelector('#df-688d7e2d-1d2a-480d-82cb-277104b1b057');\n",
       "          const dataTable =\n",
       "            await google.colab.kernel.invokeFunction('convertToInteractive',\n",
       "                                                     [key], {});\n",
       "          if (!dataTable) return;\n",
       "\n",
       "          const docLinkHtml = 'Like what you see? Visit the ' +\n",
       "            '<a target=\"_blank\" href=https://colab.research.google.com/notebooks/data_table.ipynb>data table notebook</a>'\n",
       "            + ' to learn more about interactive tables.';\n",
       "          element.innerHTML = '';\n",
       "          dataTable['output_type'] = 'display_data';\n",
       "          await google.colab.output.renderOutput(dataTable, element);\n",
       "          const docLink = document.createElement('div');\n",
       "          docLink.innerHTML = docLinkHtml;\n",
       "          element.appendChild(docLink);\n",
       "        }\n",
       "      </script>\n",
       "    </div>\n",
       "  </div>\n",
       "  "
      ],
      "text/plain": [
       "                  0                     1         2  label\n",
       "0   grenoble-inp.fr              ikea.com  0.066667      0\n",
       "1   grenoble-inp.fr               amzn.to  0.133333      0\n",
       "2   grenoble-inp.fr              unlv.edu  0.133333      0\n",
       "3   grenoble-inp.fr  americanprogress.org       0.2      0\n",
       "4   grenoble-inp.fr         csoonline.com  0.266667      0\n",
       "..              ...                   ...       ...    ...\n",
       "15       devdocs.io          pravo.gov.ru  0.166667      0\n",
       "16       devdocs.io           mikecrm.com  0.181818      0\n",
       "17       devdocs.io               fgov.be       0.2      0\n",
       "18       devdocs.io             imore.com       0.2      0\n",
       "19       devdocs.io         francebleu.fr  0.076923      0\n",
       "\n",
       "[80 rows x 4 columns]"
      ]
     },
     "execution_count": 71,
     "metadata": {},
     "output_type": "execute_result"
    }
   ],
   "source": [
    "negatives = pd.DataFrame()\n",
    "\n",
    "for v in victims:\n",
    "  reference = pd.Series([v]*20)\n",
    "  observables = domains.sample(20).reset_index(drop=True)\n",
    "  scores = observables.apply(lambda x: similarite(x, v))\n",
    "  temp = pd.DataFrame([reference, observables, scores]).T\n",
    "  negatives = pd.concat([negatives, temp], axis=\"rows\")\n",
    "\n",
    "negatives.columns = [0, 1, 2]\n",
    "negatives[\"label\"] = 0\n",
    "negatives"
   ]
  },
  {
   "cell_type": "code",
   "execution_count": null,
   "metadata": {
    "colab": {
     "base_uri": "https://localhost:8080/",
     "height": 436
    },
    "id": "95w7l6Hfa0m9",
    "outputId": "e4074bb9-920e-484f-baa2-37455d150ecc"
   },
   "outputs": [
    {
     "data": {
      "image/png": "[encoded data removed]",
      "text/plain": [
       "<Figure size 1152x576 with 1 Axes>"
      ]
     },
     "metadata": {
      "needs_background": "light"
     },
     "output_type": "display_data"
    }
   ],
   "source": [
    "entrainement = pd.concat([positives, negatives], axis=\"rows\", ignore_index=True)\n",
    "\n",
    "plt.figure(figsize=(16,8))\n",
    "plt.title(\"Distribution des similarités sur les échantillons positifs et négatifs\")\n",
    "sns.boxenplot(data=entrainement, y=2, x=\"label\");"
   ]
  },
  {
   "cell_type": "markdown",
   "metadata": {
    "id": "lE5DWBF5bmin"
   },
   "source": [
    "### 3.2 Classification heuristique"
   ]
  },
  {
   "cell_type": "code",
   "execution_count": null,
   "metadata": {
    "id": "x226bvCWozbi"
   },
   "outputs": [],
   "source": [
    "from sklearn.base import BaseEstimator, ClassifierMixin"
   ]
  },
  {
   "cell_type": "code",
   "execution_count": null,
   "metadata": {
    "id": "CUMnnqsZpxte"
   },
   "outputs": [],
   "source": [
    "# 3.2.1.a Définissez une fonction fit qui détermine un seuil de détection à partir de données labellisées."
   ]
  },
  {
   "cell_type": "code",
   "execution_count": null,
   "metadata": {
    "id": "EJvAjbxXp6sF"
   },
   "outputs": [],
   "source": [
    "# 3.2.1.b Définissez une fonction predict qui labellise des données en fonction d'un seuil preexistant."
   ]
  },
  {
   "cell_type": "code",
   "execution_count": null,
   "metadata": {
    "id": "F45hJFZSqX2z"
   },
   "outputs": [],
   "source": [
    "# 3.2.2 À partir de ces fonctions, créez un estimateur heuristique dérivé de BaseEstimator."
   ]
  },
  {
   "cell_type": "code",
   "execution_count": null,
   "metadata": {
    "id": "lQhzWiw5czkY"
   },
   "outputs": [],
   "source": [
    "class HeuristicClassifier(BaseEstimator, ClassifierMixin):\n",
    "\n",
    "    def __init__(self, limit = 0.75):\n",
    "        self.limit = limit\n",
    "\n",
    "    def fit(self, X, y=None):\n",
    "        training_data = pd.DataFrame([X, y]).T\n",
    "        positive = training_data[training_data[1] == 1][0]\n",
    "        negative = training_data[training_data[1] == 0][0]\n",
    "        self.limit = (positive.mean() + negative.mean()) / 2\n",
    "\n",
    "    def predict(self, X, y=None):\n",
    "        observables = pd.Series(X)\n",
    "\n",
    "        filtre = (observables > self.limit) & (observables < 1)\n",
    "\n",
    "        observables[~filtre] = 0\n",
    "        observables[filtre] = 1\n",
    "\n",
    "        return np.array(observables, dtype=int)\n"
   ]
  },
  {
   "cell_type": "code",
   "execution_count": null,
   "metadata": {
    "id": "iwk1M91Mqoyo"
   },
   "outputs": [],
   "source": [
    "# 3.2.3 Entrainez et évaluez votre modèle. Quelle est sa précision ?"
   ]
  },
  {
   "cell_type": "code",
   "execution_count": null,
   "metadata": {
    "id": "cta_wqXsf9_y"
   },
   "outputs": [],
   "source": [
    "from sklearn.model_selection import train_test_split"
   ]
  },
  {
   "cell_type": "code",
   "execution_count": null,
   "metadata": {
    "id": "suFHt644ZTf9"
   },
   "outputs": [],
   "source": [
    "X = np.array(entrainement[2])\n",
    "y = np.array(entrainement[\"label\"])\n",
    "X_train, X_test, y_train, y_test = train_test_split(X, y)"
   ]
  },
  {
   "cell_type": "code",
   "execution_count": null,
   "metadata": {
    "id": "KsvCzgz-f7l0"
   },
   "outputs": [],
   "source": [
    "model = HeuristicClassifier()\n",
    "model.fit(X_train, y_train)"
   ]
  },
  {
   "cell_type": "code",
   "execution_count": null,
   "metadata": {
    "colab": {
     "base_uri": "https://localhost:8080/"
    },
    "id": "eRC4jtyMgVKa",
    "outputId": "f73e9a03-88f4-4645-95c7-be6498ffd89c"
   },
   "outputs": [
    {
     "data": {
      "text/plain": [
       "0.4436684966481318"
      ]
     },
     "execution_count": 78,
     "metadata": {},
     "output_type": "execute_result"
    }
   ],
   "source": [
    "model.limit"
   ]
  },
  {
   "cell_type": "code",
   "execution_count": null,
   "metadata": {
    "id": "Rgx-pQJjg0Vf"
   },
   "outputs": [],
   "source": [
    "from sklearn import metrics"
   ]
  },
  {
   "cell_type": "code",
   "execution_count": null,
   "metadata": {
    "id": "SX1XhET2iFU1"
   },
   "outputs": [],
   "source": [
    "y_pred = model.predict(X_test)"
   ]
  },
  {
   "cell_type": "code",
   "execution_count": null,
   "metadata": {
    "colab": {
     "base_uri": "https://localhost:8080/"
    },
    "id": "kQ2-Fy_Hjz-m",
    "outputId": "dd852113-5d0c-44e4-d1cb-a13623a6c7ca"
   },
   "outputs": [
    {
     "name": "stdout",
     "output_type": "stream",
     "text": [
      "              precision    recall  f1-score   support\n",
      "\n",
      "           0       1.00      1.00      1.00        23\n",
      "           1       1.00      1.00      1.00        17\n",
      "\n",
      "    accuracy                           1.00        40\n",
      "   macro avg       1.00      1.00      1.00        40\n",
      "weighted avg       1.00      1.00      1.00        40\n",
      "\n"
     ]
    }
   ],
   "source": [
    "print(metrics.classification_report(y_test, y_pred))"
   ]
  },
  {
   "cell_type": "code",
   "execution_count": null,
   "metadata": {
    "colab": {
     "base_uri": "https://localhost:8080/",
     "height": 281
    },
    "id": "7CJ-xJTfjE7Y",
    "outputId": "b97fa853-6154-4aa8-a16d-5b5480b436e3"
   },
   "outputs": [
    {
     "data": {
      "image/png": "[encoded data removed]",
      "text/plain": [
       "<Figure size 432x288 with 2 Axes>"
      ]
     },
     "metadata": {
      "needs_background": "light"
     },
     "output_type": "display_data"
    }
   ],
   "source": [
    "cm = metrics.confusion_matrix(y_test, y_pred, normalize=\"all\")\n",
    "\n",
    "plt.title(\"Matrice de confusion sur un échantillon de test\");\n",
    "sns.heatmap(cm, center=.25, annot=True, fmt=\".2f\");"
   ]
  },
  {
   "cell_type": "code",
   "execution_count": null,
   "metadata": {
    "id": "he1mHvtasBJX"
   },
   "outputs": [],
   "source": [
    "# 3.2.4 BONUS: Comparez votre modèle à un autre modèle fourni par scikit-learn (régression logistique, arbre de décision)."
   ]
  },
  {
   "cell_type": "markdown",
   "metadata": {
    "id": "Js_GlEynbr1y"
   },
   "source": [
    "### 3.3 Mise en production"
   ]
  },
  {
   "cell_type": "markdown",
   "metadata": {
    "id": "QCN8rO-BljQK"
   },
   "source": [
    " - 3.3.1 **Pipelines de traitement**\n",
    " - 3.3.2 **Versionnage et mises à jour**\n",
    " - 3.3.3 **Mise en service du modèle**\n",
    "\n",
    "https://www.youtube.com/watch?v=zhgRFBWa6bk"
   ]
  }
 ],
 "metadata": {
  "colab": {
   "collapsed_sections": [
    "Qy8x_-nVE1jT",
    "nY0tziQsFHCG",
    "6Ua79FIwFtKc",
    "lE5DWBF5bmin",
    "Js_GlEynbr1y"
   ],
   "provenance": []
  },
  "kernelspec": {
   "display_name": "Python 3 (ipykernel)",
   "language": "python",
   "name": "python3"
  },
  "language_info": {
   "codemirror_mode": {
    "name": "ipython",
    "version": 3
   },
   "file_extension": ".py",
   "mimetype": "text/x-python",
   "name": "python",
   "nbconvert_exporter": "python",
   "pygments_lexer": "ipython3",
   "version": "3.8.10"
  }
 },
 "nbformat": 4,
 "nbformat_minor": 1
}
